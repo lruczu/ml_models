{
 "cells": [
  {
   "cell_type": "code",
   "execution_count": 27,
   "metadata": {
    "collapsed": true
   },
   "outputs": [],
   "source": [
    "%matplotlib inline\n",
    "\n",
    "import numpy as np\n",
    "import matplotlib.pyplot as plt\n",
    "import pandas as pd\n",
    "import seaborn as sns"
   ]
  },
  {
   "cell_type": "markdown",
   "metadata": {},
   "source": [
    "#### ---- DATA ----\n",
    "Data comes from https://www.kaggle.com/c/ga-customer-revenue-prediction. \n",
    "\n",
    "Here are a few words about it:\n",
    "I'll simplify a bit the context, we don't need to know everything for our purposes.\n",
    "\n",
    "Each observation presents one visit of a customer to a store. \n",
    "Each visit is characterized by some numeric and categorical quantities:\n",
    "\n",
    "Numeric columns:\n",
    "    - totals_bounces\n",
    "    - totals_hits\n",
    "    - totals_pageviews\n",
    "    - totals_transactionRevenue\n",
    "\n",
    "Categorical columns:\n",
    "    - channelGrouping\n",
    "    - device_browser\n",
    "    - geo_network_city\n",
    "    - geo_network_continent\n",
    "    - traffic_source\n",
    "    \n",
    "One customer can visit a store a couple of times. \n",
    "The kaggle data is filtered in such a way that it contains customers that visited a store at least twice. \n",
    "Only 50k customers were samples. \n",
    "\n",
    "We talked here about \"store\", we don't care about them, we can even assume that there is only one. \n",
    "\n",
    "There are columns that will be important to us:\n",
    "    - fullVisitorId (we identify a visitor by this column)\n",
    "    - visitStartTime (as the name suggests, it is registed the start time of visit)\n",
    "    - visit_number (for each visitor, 1, 2, 3, ..), as was said above for each seller for exists 1 and 2. "
   ]
  },
  {
   "cell_type": "code",
   "execution_count": 2,
   "metadata": {
    "collapsed": true
   },
   "outputs": [],
   "source": [
    "visitors_df = pd.read_csv(\"data/visitors_data.csv\",  dtype={\n",
    "                       'fullVisitorId': str\n",
    "                   })"
   ]
  },
  {
   "cell_type": "code",
   "execution_count": 3,
   "metadata": {},
   "outputs": [
    {
     "data": {
      "text/plain": [
       "(151322, 13)"
      ]
     },
     "execution_count": 3,
     "metadata": {},
     "output_type": "execute_result"
    }
   ],
   "source": [
    "visitors_df.shape"
   ]
  },
  {
   "cell_type": "code",
   "execution_count": 4,
   "metadata": {},
   "outputs": [
    {
     "data": {
      "text/html": [
       "<div>\n",
       "<style scoped>\n",
       "    .dataframe tbody tr th:only-of-type {\n",
       "        vertical-align: middle;\n",
       "    }\n",
       "\n",
       "    .dataframe tbody tr th {\n",
       "        vertical-align: top;\n",
       "    }\n",
       "\n",
       "    .dataframe thead th {\n",
       "        text-align: right;\n",
       "    }\n",
       "</style>\n",
       "<table border=\"1\" class=\"dataframe\">\n",
       "  <thead>\n",
       "    <tr style=\"text-align: right;\">\n",
       "      <th></th>\n",
       "      <th>fullVisitorId</th>\n",
       "      <th>channelGrouping</th>\n",
       "      <th>visitStartTime</th>\n",
       "      <th>totals_bounces</th>\n",
       "      <th>totals_hits</th>\n",
       "      <th>totals_pageviews</th>\n",
       "      <th>totals_transactionRevenue</th>\n",
       "      <th>device_browser</th>\n",
       "      <th>device_is_mobile</th>\n",
       "      <th>geo_network_city</th>\n",
       "      <th>geo_network_continent</th>\n",
       "      <th>traffic_source</th>\n",
       "      <th>visit_number</th>\n",
       "    </tr>\n",
       "  </thead>\n",
       "  <tbody>\n",
       "    <tr>\n",
       "      <th>0</th>\n",
       "      <td>0000040862739425590</td>\n",
       "      <td>Paid Search</td>\n",
       "      <td>2017-02-11 18:09:31</td>\n",
       "      <td>0.0</td>\n",
       "      <td>2.0</td>\n",
       "      <td>2.0</td>\n",
       "      <td>0.0</td>\n",
       "      <td>Chrome</td>\n",
       "      <td>False</td>\n",
       "      <td>Oakland</td>\n",
       "      <td>Americas</td>\n",
       "      <td>google</td>\n",
       "      <td>1</td>\n",
       "    </tr>\n",
       "  </tbody>\n",
       "</table>\n",
       "</div>"
      ],
      "text/plain": [
       "         fullVisitorId channelGrouping       visitStartTime  totals_bounces  \\\n",
       "0  0000040862739425590     Paid Search  2017-02-11 18:09:31             0.0   \n",
       "\n",
       "   totals_hits  totals_pageviews  totals_transactionRevenue device_browser  \\\n",
       "0          2.0               2.0                        0.0         Chrome   \n",
       "\n",
       "   device_is_mobile geo_network_city geo_network_continent traffic_source  \\\n",
       "0             False          Oakland              Americas         google   \n",
       "\n",
       "   visit_number  \n",
       "0             1  "
      ]
     },
     "execution_count": 4,
     "metadata": {},
     "output_type": "execute_result"
    }
   ],
   "source": [
    "visitors_df.head(1)"
   ]
  },
  {
   "cell_type": "code",
   "execution_count": 5,
   "metadata": {},
   "outputs": [
    {
     "data": {
      "text/plain": [
       "<matplotlib.axes._subplots.AxesSubplot at 0x7f0c79b76630>"
      ]
     },
     "execution_count": 5,
     "metadata": {},
     "output_type": "execute_result"
    },
    {
     "data": {
      "image/png": "[encoded data removed]",
      "text/plain": [
       "<matplotlib.figure.Figure at 0x7f0c76747f60>"
      ]
     },
     "metadata": {},
     "output_type": "display_data"
    }
   ],
   "source": [
    "visitors_df.groupby('fullVisitorId')['visit_number'].max().hist()"
   ]
  },
  {
   "cell_type": "code",
   "execution_count": 13,
   "metadata": {},
   "outputs": [
    {
     "data": {
      "text/plain": [
       "<matplotlib.axes._subplots.AxesSubplot at 0x7f0c76eb9780>"
      ]
     },
     "execution_count": 13,
     "metadata": {},
     "output_type": "execute_result"
    },
    {
     "data": {
      "image/png": "[encoded data removed]",
      "text/plain": [
       "<matplotlib.figure.Figure at 0x7f0c76eda7f0>"
      ]
     },
     "metadata": {},
     "output_type": "display_data"
    }
   ],
   "source": [
    "# most of customers visited the store less than 20 times\n",
    "x = visitors_df.groupby('fullVisitorId')['visit_number'].max()\n",
    "(x.value_counts().cumsum().iloc[:20] / len(x)).plot()"
   ]
  },
  {
   "cell_type": "markdown",
   "metadata": {},
   "source": [
    "#### ---- DATA ----\n",
    "Let's first look at continous columns. "
   ]
  },
  {
   "cell_type": "code",
   "execution_count": 14,
   "metadata": {},
   "outputs": [
    {
     "data": {
      "text/plain": [
       "0.0    90520\n",
       "1.0    60802\n",
       "Name: totals_bounces, dtype: int64"
      ]
     },
     "execution_count": 14,
     "metadata": {},
     "output_type": "execute_result"
    }
   ],
   "source": [
    "# it seems to be actually discrete variable \n",
    "visitors_df['totals_bounces'].value_counts()"
   ]
  },
  {
   "cell_type": "code",
   "execution_count": 15,
   "metadata": {},
   "outputs": [
    {
     "data": {
      "text/plain": [
       "<matplotlib.axes._subplots.AxesSubplot at 0x7f0c76ede4a8>"
      ]
     },
     "execution_count": 15,
     "metadata": {},
     "output_type": "execute_result"
    },
    {
     "data": {
      "image/png": "[encoded data removed]",
      "text/plain": [
       "<matplotlib.figure.Figure at 0x7f0c7963c400>"
      ]
     },
     "metadata": {},
     "output_type": "display_data"
    }
   ],
   "source": [
    "visitors_df['totals_hits'].hist()"
   ]
  },
  {
   "cell_type": "code",
   "execution_count": 17,
   "metadata": {},
   "outputs": [
    {
     "data": {
      "image/png": "[encoded data removed]",
      "text/plain": [
       "<matplotlib.figure.Figure at 0x7f0c76bd7048>"
      ]
     },
     "metadata": {},
     "output_type": "display_data"
    }
   ],
   "source": [
    "visitors_df[visitors_df['totals_hits'] < 100]['totals_hits'].hist();"
   ]
  },
  {
   "cell_type": "code",
   "execution_count": 18,
   "metadata": {},
   "outputs": [
    {
     "data": {
      "text/plain": [
       "1.0    0.399070\n",
       "2.0    0.125091\n",
       "3.0    0.080352\n",
       "4.0    0.054757\n",
       "5.0    0.042076\n",
       "Name: totals_hits, dtype: float64"
      ]
     },
     "execution_count": 18,
     "metadata": {},
     "output_type": "execute_result"
    }
   ],
   "source": [
    "visitors_df['totals_hits'].value_counts().iloc[:5] / visitors_df.shape[0]"
   ]
  },
  {
   "cell_type": "code",
   "execution_count": 19,
   "metadata": {},
   "outputs": [
    {
     "data": {
      "image/png": "[encoded data removed]",
      "text/plain": [
       "<matplotlib.figure.Figure at 0x7f0c73e30c88>"
      ]
     },
     "metadata": {},
     "output_type": "display_data"
    }
   ],
   "source": [
    "visitors_df['totals_pageviews'].hist();"
   ]
  },
  {
   "cell_type": "code",
   "execution_count": 20,
   "metadata": {},
   "outputs": [
    {
     "data": {
      "image/png": "[encoded data removed]",
      "text/plain": [
       "<matplotlib.figure.Figure at 0x7f0c73da4dd8>"
      ]
     },
     "metadata": {},
     "output_type": "display_data"
    }
   ],
   "source": [
    "visitors_df[visitors_df['totals_pageviews'] < 100]['totals_pageviews'].hist();"
   ]
  },
  {
   "cell_type": "code",
   "execution_count": 21,
   "metadata": {},
   "outputs": [
    {
     "data": {
      "text/plain": [
       "1.0    0.405011\n",
       "2.0    0.130933\n",
       "3.0    0.086980\n",
       "4.0    0.060824\n",
       "5.0    0.047389\n",
       "Name: totals_pageviews, dtype: float64"
      ]
     },
     "execution_count": 21,
     "metadata": {},
     "output_type": "execute_result"
    }
   ],
   "source": [
    "visitors_df['totals_pageviews'].value_counts().iloc[:5] / visitors_df.shape[0]"
   ]
  },
  {
   "cell_type": "code",
   "execution_count": 22,
   "metadata": {},
   "outputs": [
    {
     "data": {
      "text/plain": [
       "<matplotlib.axes._subplots.AxesSubplot at 0x7f0c73dae860>"
      ]
     },
     "execution_count": 22,
     "metadata": {},
     "output_type": "execute_result"
    },
    {
     "data": {
      "image/png": "[encoded data removed]",
      "text/plain": [
       "<matplotlib.figure.Figure at 0x7f0c79676b70>"
      ]
     },
     "metadata": {},
     "output_type": "display_data"
    }
   ],
   "source": [
    "visitors_df['totals_transactionRevenue'].hist()"
   ]
  },
  {
   "cell_type": "code",
   "execution_count": 24,
   "metadata": {},
   "outputs": [
    {
     "data": {
      "text/plain": [
       "0.97041408387412276"
      ]
     },
     "execution_count": 24,
     "metadata": {},
     "output_type": "execute_result"
    }
   ],
   "source": [
    "(visitors_df['totals_transactionRevenue'] == 0).mean()"
   ]
  },
  {
   "cell_type": "code",
   "execution_count": 25,
   "metadata": {},
   "outputs": [
    {
     "data": {
      "text/plain": [
       "<matplotlib.axes._subplots.AxesSubplot at 0x7f0c73b0e4e0>"
      ]
     },
     "execution_count": 25,
     "metadata": {},
     "output_type": "execute_result"
    },
    {
     "data": {
      "image/png": "[encoded data removed]",
      "text/plain": [
       "<matplotlib.figure.Figure at 0x7f0c73b77320>"
      ]
     },
     "metadata": {},
     "output_type": "display_data"
    }
   ],
   "source": [
    "visitors_df[visitors_df['totals_transactionRevenue'] > 0]['totals_transactionRevenue'].hist()"
   ]
  },
  {
   "cell_type": "code",
   "execution_count": 26,
   "metadata": {},
   "outputs": [
    {
     "name": "stdout",
     "output_type": "stream",
     "text": [
      "min non-zero values: 40000.0\n",
      "max non-zero values: 10589140000.0\n"
     ]
    }
   ],
   "source": [
    "print('min non-zero values: {}'.format(visitors_df[visitors_df['totals_transactionRevenue'] > 0]['totals_transactionRevenue'].min()))\n",
    "print('max non-zero values: {}'.format(visitors_df[visitors_df['totals_transactionRevenue'] > 0]['totals_transactionRevenue'].max()))"
   ]
  },
  {
   "cell_type": "code",
   "execution_count": 28,
   "metadata": {},
   "outputs": [
    {
     "data": {
      "text/plain": [
       "<matplotlib.axes._subplots.AxesSubplot at 0x7f0c73aa4400>"
      ]
     },
     "execution_count": 28,
     "metadata": {},
     "output_type": "execute_result"
    },
    {
     "data": {
      "image/png": "[encoded data removed]",
      "text/plain": [
       "<matplotlib.figure.Figure at 0x7f0c73ab8b70>"
      ]
     },
     "metadata": {},
     "output_type": "display_data"
    }
   ],
   "source": [
    "np.log(visitors_df[visitors_df['totals_transactionRevenue'] > 0]['totals_transactionRevenue']).hist()"
   ]
  },
  {
   "cell_type": "markdown",
   "metadata": {},
   "source": [
    "#### ---- DATA ----\n",
    "Let's now look at categorical columns. "
   ]
  },
  {
   "cell_type": "code",
   "execution_count": 29,
   "metadata": {},
   "outputs": [
    {
     "data": {
      "text/plain": [
       "Organic Search    62510\n",
       "Referral          33634\n",
       "Direct            29334\n",
       "Social            12743\n",
       "Paid Search        7384\n",
       "Affiliates         3122\n",
       "Display            2536\n",
       "(Other)              59\n",
       "Name: channelGrouping, dtype: int64"
      ]
     },
     "execution_count": 29,
     "metadata": {},
     "output_type": "execute_result"
    }
   ],
   "source": [
    "visitors_df['channelGrouping'].value_counts()"
   ]
  },
  {
   "cell_type": "code",
   "execution_count": 31,
   "metadata": {},
   "outputs": [
    {
     "data": {
      "text/plain": [
       "Chrome                      121125\n",
       "Safari                       21082\n",
       "Firefox                       4175\n",
       "Internet Explorer             1374\n",
       "Edge                          1120\n",
       "Android Webview                625\n",
       "Safari (in-app)                552\n",
       "Opera                          401\n",
       "Opera Mini                     263\n",
       "UC Browser                     182\n",
       "Amazon Silk                    108\n",
       "YaBrowser                       97\n",
       "Mozilla Compatible Agent        57\n",
       "Android Browser                 51\n",
       "Maxthon                         30\n",
       "Coc Coc                         25\n",
       "Nintendo Browser                25\n",
       "BlackBerry                       8\n",
       "Seznam                           5\n",
       "LYF_LS_4002_12                   4\n",
       "Puffin                           3\n",
       "DASH_JR_3G                       3\n",
       "MRCHROME                         2\n",
       "Nokia Browser                    2\n",
       "no-ua                            2\n",
       "Mozilla                          1\n",
       "Name: device_browser, dtype: int64"
      ]
     },
     "execution_count": 31,
     "metadata": {},
     "output_type": "execute_result"
    }
   ],
   "source": [
    "visitors_df['device_browser'].value_counts()"
   ]
  },
  {
   "cell_type": "code",
   "execution_count": 33,
   "metadata": {},
   "outputs": [
    {
     "data": {
      "text/plain": [
       "not available in demo dataset        70517\n",
       "Mountain View                        13291\n",
       "New York                              7349\n",
       "San Francisco                         5506\n",
       "Sunnyvale                             4155\n",
       "(not set)                             3922\n",
       "San Jose                              2800\n",
       "London                                2215\n",
       "Chicago                               2156\n",
       "Los Angeles                           2135\n",
       "Seattle                               1481\n",
       "Salem                                 1168\n",
       "Toronto                               1126\n",
       "Austin                                1086\n",
       "Santa Clara                           1000\n",
       "Palo Alto                              958\n",
       "Dublin                                 852\n",
       "Ann Arbor                              813\n",
       "Paris                                  730\n",
       "Montreal                               712\n",
       "Sydney                                 679\n",
       "Kirkland                               676\n",
       "Singapore                              676\n",
       "Tel Aviv-Yafo                          601\n",
       "Bengaluru                              596\n",
       "Minato                                 591\n",
       "Warsaw                                 579\n",
       "Bangkok                                578\n",
       "Washington                             572\n",
       "Cambridge                              566\n",
       "                                     ...  \n",
       "Longtan District                         1\n",
       "Seclin                                   1\n",
       "Szczecin                                 1\n",
       "Beirut                                   1\n",
       "Nam Djinh                                1\n",
       "Campbell                                 1\n",
       "Mueang Nakhon Ratchasima District        1\n",
       "Alba                                     1\n",
       "Thai Binh                                1\n",
       "Daegu                                    1\n",
       "St. Louis                                1\n",
       "Deva                                     1\n",
       "Cuiaba                                   1\n",
       "Naples                                   1\n",
       "Salvador                                 1\n",
       "Kortrijk                                 1\n",
       "Minsk                                    1\n",
       "Koszalin                                 1\n",
       "Carrollton                               1\n",
       "Boise                                    1\n",
       "Taoyuan District                         1\n",
       "'s Hertogenbosch                         1\n",
       "Samsun                                   1\n",
       "Caracas                                  1\n",
       "Can Tho                                  1\n",
       "Atwater                                  1\n",
       "Nea Erythraia                            1\n",
       "Villanova                                1\n",
       "Thanh Hoa                                1\n",
       "Nantes                                   1\n",
       "Name: geo_network_city, Length: 491, dtype: int64"
      ]
     },
     "execution_count": 33,
     "metadata": {},
     "output_type": "execute_result"
    }
   ],
   "source": [
    "visitors_df['geo_network_city'].value_counts()"
   ]
  },
  {
   "cell_type": "code",
   "execution_count": 34,
   "metadata": {},
   "outputs": [
    {
     "data": {
      "text/plain": [
       "Americas     99599\n",
       "Europe       25460\n",
       "Asia         23086\n",
       "Oceania       1903\n",
       "Africa        1156\n",
       "(not set)      118\n",
       "Name: geo_network_continent, dtype: int64"
      ]
     },
     "execution_count": 34,
     "metadata": {},
     "output_type": "execute_result"
    }
   ],
   "source": [
    "visitors_df['geo_network_continent'].value_counts()"
   ]
  },
  {
   "cell_type": "code",
   "execution_count": 35,
   "metadata": {},
   "outputs": [
    {
     "data": {
      "text/plain": [
       "google                                               69343\n",
       "(direct)                                             29334\n",
       "mall.googleplex.com                                  24188\n",
       "youtube.com                                          10579\n",
       "analytics.google.com                                  4568\n",
       "Partners                                              3126\n",
       "dfa                                                   2385\n",
       "sites.google.com                                      1005\n",
       "mail.google.com                                        603\n",
       "facebook.com                                           470\n",
       "google.com                                             468\n",
       "gdeals.googleplex.com                                  386\n",
       "quora.com                                              347\n",
       "reddit.com                                             321\n",
       "groups.google.com                                      315\n",
       "m.facebook.com                                         269\n",
       "bing                                                   268\n",
       "qiita.com                                              254\n",
       "siliconvalley.about.com                                234\n",
       "dealspotr.com                                          230\n",
       "yahoo                                                  226\n",
       "baidu                                                  196\n",
       "moma.corp.google.com                                   172\n",
       "t.co                                                   167\n",
       "l.facebook.com                                         165\n",
       "blog.golang.org                                        158\n",
       "s0.2mdn.net                                            133\n",
       "docs.google.com                                        103\n",
       "phandroid.com                                           84\n",
       "sashihara.jp                                            69\n",
       "                                                     ...  \n",
       "x20web.corp.google.com                                   1\n",
       "0.shared.bow.cat2.ads-bow.qk.borg.google.com:9873        1\n",
       "0.shared.bow.cat2.ads-bow.yw.borg.google.com:9880        1\n",
       "web.telegram.org                                         1\n",
       "web.facebook.com                                         1\n",
       "us-mg5.mail.yahoo.com                                    1\n",
       "0.shared.bow.cat2.ads-bow.qk.borg.google.com:9885        1\n",
       "0.shared.bow.cat2.ads-bow.qk.borg.google.com:9801        1\n",
       "m.sogou.com                                              1\n",
       "growcms.googleplex.com                                   1\n",
       "it.pinterest.com                                         1\n",
       "yandex                                                   1\n",
       "images.google.lt                                         1\n",
       "ad.doubleclick.net                                       1\n",
       "baidu.com                                                1\n",
       "0.shared.bow.cat2.ads-bow.qk.borg.google.com:9846        1\n",
       "0.shared.bow.cat2.ads-bow.yw.borg.google.com:9875        1\n",
       "google.com.tw                                            1\n",
       "0.shared.bow.cat2.ads-bow.qk.borg.google.com:9831        1\n",
       "search.pch.com                                           1\n",
       "allo.corp.google.com                                     1\n",
       "0.shared.bow.cat2.ads-bow.qk.borg.google.com:9830        1\n",
       "br.pinterest.com                                         1\n",
       "cc.csusm.edu                                             1\n",
       "mmisciagna2.sbo.corp.google.com:8000                     1\n",
       "0.shared.bow.cat2.ads-bow.lf.borg.google.com:9824        1\n",
       "0.shared.bow.cat2.ads-bow.tg.borg.google.com:9864        1\n",
       "0.shared.bow.cat2.ads-bow.yw.borg.google.com:9896        1\n",
       "0.shared.bow.cat2.ads-bow.qk.borg.google.com:9848        1\n",
       "0.shared.bow.cat2.ads-bow.lf.borg.google.com:9860        1\n",
       "Name: traffic_source, Length: 192, dtype: int64"
      ]
     },
     "execution_count": 35,
     "metadata": {},
     "output_type": "execute_result"
    }
   ],
   "source": [
    "visitors_df['traffic_source'].value_counts()"
   ]
  },
  {
   "cell_type": "markdown",
   "metadata": {},
   "source": [
    "#### ---- Problem statement ---- \n",
    "We will learn later that in survival analysis one of the most important concept is \"the event\". It can be understood intuitively but it will be introduced more formally later. \n",
    "\n",
    "For us the event is the visit of a customer to the store. \n",
    "\n",
    "<b>Given the information about the first visit, we would like to know how much time has to pass until the second visit.</b> \n",
    "\n",
    "Later we might be interested in different questions.\n",
    "\n",
    "Our main purpose is to learn how to deal with censored data. We will slowly get to that point. For now, let's be more specific about the problem definition. But before doing so we have to look at data first. We have to make \n",
    "sure that created problem makes sense!"
   ]
  },
  {
   "cell_type": "code",
   "execution_count": 38,
   "metadata": {},
   "outputs": [],
   "source": [
    "first_visits = visitors_df[visitors_df['visit_number'] == 1][['fullVisitorId', 'visitStartTime']].set_index('fullVisitorId')\n",
    "second_visits = visitors_df[visitors_df['visit_number'] == 2][['fullVisitorId', 'visitStartTime']].set_index('fullVisitorId')"
   ]
  },
  {
   "cell_type": "code",
   "execution_count": 39,
   "metadata": {},
   "outputs": [
    {
     "data": {
      "text/html": [
       "<div>\n",
       "<style scoped>\n",
       "    .dataframe tbody tr th:only-of-type {\n",
       "        vertical-align: middle;\n",
       "    }\n",
       "\n",
       "    .dataframe tbody tr th {\n",
       "        vertical-align: top;\n",
       "    }\n",
       "\n",
       "    .dataframe thead th {\n",
       "        text-align: right;\n",
       "    }\n",
       "</style>\n",
       "<table border=\"1\" class=\"dataframe\">\n",
       "  <thead>\n",
       "    <tr style=\"text-align: right;\">\n",
       "      <th></th>\n",
       "      <th>visitStartTime</th>\n",
       "    </tr>\n",
       "    <tr>\n",
       "      <th>fullVisitorId</th>\n",
       "      <th></th>\n",
       "    </tr>\n",
       "  </thead>\n",
       "  <tbody>\n",
       "    <tr>\n",
       "      <th>0000040862739425590</th>\n",
       "      <td>2017-02-11 18:09:31</td>\n",
       "    </tr>\n",
       "    <tr>\n",
       "      <th>0000174067426171406</th>\n",
       "      <td>2016-11-11 06:44:01</td>\n",
       "    </tr>\n",
       "  </tbody>\n",
       "</table>\n",
       "</div>"
      ],
      "text/plain": [
       "                          visitStartTime\n",
       "fullVisitorId                           \n",
       "0000040862739425590  2017-02-11 18:09:31\n",
       "0000174067426171406  2016-11-11 06:44:01"
      ]
     },
     "execution_count": 39,
     "metadata": {},
     "output_type": "execute_result"
    }
   ],
   "source": [
    "first_visits.head(2)"
   ]
  },
  {
   "cell_type": "code",
   "execution_count": 41,
   "metadata": {},
   "outputs": [
    {
     "data": {
      "text/html": [
       "<div>\n",
       "<style scoped>\n",
       "    .dataframe tbody tr th:only-of-type {\n",
       "        vertical-align: middle;\n",
       "    }\n",
       "\n",
       "    .dataframe tbody tr th {\n",
       "        vertical-align: top;\n",
       "    }\n",
       "\n",
       "    .dataframe thead th {\n",
       "        text-align: right;\n",
       "    }\n",
       "</style>\n",
       "<table border=\"1\" class=\"dataframe\">\n",
       "  <thead>\n",
       "    <tr style=\"text-align: right;\">\n",
       "      <th></th>\n",
       "      <th>first_visit</th>\n",
       "      <th>second_visit</th>\n",
       "    </tr>\n",
       "    <tr>\n",
       "      <th>fullVisitorId</th>\n",
       "      <th></th>\n",
       "      <th></th>\n",
       "    </tr>\n",
       "  </thead>\n",
       "  <tbody>\n",
       "    <tr>\n",
       "      <th>0000040862739425590</th>\n",
       "      <td>2017-02-11 18:09:31</td>\n",
       "      <td>2017-02-11 18:47:04</td>\n",
       "    </tr>\n",
       "    <tr>\n",
       "      <th>0000174067426171406</th>\n",
       "      <td>2016-11-11 06:44:01</td>\n",
       "      <td>2016-11-12 05:05:57</td>\n",
       "    </tr>\n",
       "  </tbody>\n",
       "</table>\n",
       "</div>"
      ],
      "text/plain": [
       "                             first_visit         second_visit\n",
       "fullVisitorId                                                \n",
       "0000040862739425590  2017-02-11 18:09:31  2017-02-11 18:47:04\n",
       "0000174067426171406  2016-11-11 06:44:01  2016-11-12 05:05:57"
      ]
     },
     "execution_count": 41,
     "metadata": {},
     "output_type": "execute_result"
    }
   ],
   "source": [
    "first_visits = first_visits.rename(columns={'visitStartTime': 'first_visit'})\n",
    "second_visits = second_visits.rename(columns={'visitStartTime': 'second_visit'})\n",
    "first_visits = first_visits.join(second_visits)\n",
    "first_visits.head(2)"
   ]
  },
  {
   "cell_type": "code",
   "execution_count": 46,
   "metadata": {},
   "outputs": [],
   "source": [
    "first_visits['first_visit'] = pd.to_datetime(first_visits['first_visit'])\n",
    "first_visits['second_visit'] = pd.to_datetime(first_visits['second_visit'])\n",
    "first_visits['duration'] = (first_visits['second_visit'] - first_visits['first_visit']) / pd.to_timedelta('1 second')"
   ]
  },
  {
   "cell_type": "code",
   "execution_count": 47,
   "metadata": {},
   "outputs": [
    {
     "data": {
      "text/html": [
       "<div>\n",
       "<style scoped>\n",
       "    .dataframe tbody tr th:only-of-type {\n",
       "        vertical-align: middle;\n",
       "    }\n",
       "\n",
       "    .dataframe tbody tr th {\n",
       "        vertical-align: top;\n",
       "    }\n",
       "\n",
       "    .dataframe thead th {\n",
       "        text-align: right;\n",
       "    }\n",
       "</style>\n",
       "<table border=\"1\" class=\"dataframe\">\n",
       "  <thead>\n",
       "    <tr style=\"text-align: right;\">\n",
       "      <th></th>\n",
       "      <th>first_visit</th>\n",
       "      <th>second_visit</th>\n",
       "      <th>duration</th>\n",
       "    </tr>\n",
       "    <tr>\n",
       "      <th>fullVisitorId</th>\n",
       "      <th></th>\n",
       "      <th></th>\n",
       "      <th></th>\n",
       "    </tr>\n",
       "  </thead>\n",
       "  <tbody>\n",
       "    <tr>\n",
       "      <th>0000040862739425590</th>\n",
       "      <td>2017-02-11 18:09:31</td>\n",
       "      <td>2017-02-11 18:47:04</td>\n",
       "      <td>2253.0</td>\n",
       "    </tr>\n",
       "    <tr>\n",
       "      <th>0000174067426171406</th>\n",
       "      <td>2016-11-11 06:44:01</td>\n",
       "      <td>2016-11-12 05:05:57</td>\n",
       "      <td>80516.0</td>\n",
       "    </tr>\n",
       "  </tbody>\n",
       "</table>\n",
       "</div>"
      ],
      "text/plain": [
       "                            first_visit        second_visit  duration\n",
       "fullVisitorId                                                        \n",
       "0000040862739425590 2017-02-11 18:09:31 2017-02-11 18:47:04    2253.0\n",
       "0000174067426171406 2016-11-11 06:44:01 2016-11-12 05:05:57   80516.0"
      ]
     },
     "execution_count": 47,
     "metadata": {},
     "output_type": "execute_result"
    }
   ],
   "source": [
    "first_visits.head(2)"
   ]
  },
  {
   "cell_type": "markdown",
   "metadata": {},
   "source": [
    "####  ---- Problem statement ---- \n",
    "From the store's point of view, there's no point in asking how many seconds might pass until the second visit. \n",
    "We don't need such granularity. Hours, days or even weeks are closer to real needs."
   ]
  },
  {
   "cell_type": "code",
   "execution_count": 50,
   "metadata": {},
   "outputs": [
    {
     "data": {
      "text/plain": [
       "<matplotlib.axes._subplots.AxesSubplot at 0x7f0c738cc4a8>"
      ]
     },
     "execution_count": 50,
     "metadata": {},
     "output_type": "execute_result"
    },
    {
     "data": {
      "image/png": "[encoded data removed]",
      "text/plain": [
       "<matplotlib.figure.Figure at 0x7f0c73d8a5f8>"
      ]
     },
     "metadata": {},
     "output_type": "display_data"
    }
   ],
   "source": [
    "# hours\n",
    "(first_visits['duration'] / 3600).hist()"
   ]
  },
  {
   "cell_type": "code",
   "execution_count": 52,
   "metadata": {},
   "outputs": [
    {
     "data": {
      "text/plain": [
       "<matplotlib.axes._subplots.AxesSubplot at 0x7f0c738cc0f0>"
      ]
     },
     "execution_count": 52,
     "metadata": {},
     "output_type": "execute_result"
    },
    {
     "data": {
      "image/png": "[encoded data removed]",
      "text/plain": [
       "<matplotlib.figure.Figure at 0x7f0c73e0bac8>"
      ]
     },
     "metadata": {},
     "output_type": "display_data"
    }
   ],
   "source": [
    "# days\n",
    "(first_visits['duration'] / (24 * 3600)).hist()"
   ]
  },
  {
   "cell_type": "code",
   "execution_count": 54,
   "metadata": {},
   "outputs": [
    {
     "data": {
      "text/plain": [
       "0    0.51176\n",
       "1    0.07156\n",
       "2    0.04036\n",
       "3    0.02940\n",
       "4    0.02450\n",
       "6    0.02252\n",
       "5    0.02138\n",
       "7    0.01846\n",
       "8    0.01422\n",
       "9    0.01198\n",
       "Name: duration, dtype: float64"
      ]
     },
     "execution_count": 54,
     "metadata": {},
     "output_type": "execute_result"
    }
   ],
   "source": [
    "(first_visits['duration'].map(lambda x: int(x / (24 * 3600))).value_counts() / first_visits.shape[0]).iloc[:10]"
   ]
  },
  {
   "cell_type": "code",
   "execution_count": 55,
   "metadata": {},
   "outputs": [
    {
     "data": {
      "text/plain": [
       "(Timestamp('2016-08-01 07:08:12'), Timestamp('2017-08-02 06:05:11'))"
      ]
     },
     "execution_count": 55,
     "metadata": {},
     "output_type": "execute_result"
    }
   ],
   "source": [
    "first_visits['first_visit'].min(), first_visits['first_visit'].max()"
   ]
  },
  {
   "cell_type": "code",
   "execution_count": 56,
   "metadata": {},
   "outputs": [
    {
     "data": {
      "text/plain": [
       "(Timestamp('2016-08-01 08:52:23'), Timestamp('2017-08-02 06:53:32'))"
      ]
     },
     "execution_count": 56,
     "metadata": {},
     "output_type": "execute_result"
    }
   ],
   "source": [
    "first_visits['second_visit'].min(), first_visits['second_visit'].max()"
   ]
  },
  {
   "cell_type": "markdown",
   "metadata": {},
   "source": [
    "####  ---- Problem statement ---- \n",
    "Data is never perfect. Let's settle on days. \n",
    "\n",
    "If we left the problem in this moment. We could apply regression techniques to solve it. There is some time-series aspect, but in this formulation is not even noticeable. \n",
    "\n",
    "The real practical use of the methods we are going to learn about is when data is censored. It will be explained using a simple example. Suppose that a customer visited the store on Monday and the second visit is on Friday. In this situation our target variable would be 4. But suppose we need to take some actions on Wednesday. What we know is that 2 days passed since the first visit and the second one is still to come. If we had to build a regression model, we would have to take some actions with variables as these. Either drop them from fitting or set a target variable as 2. How bad is this solution depends on the proportion of such variables, called censored variables. \n",
    "\n",
    "So we want to simulate such a situation. We've seen first visits and are going to build prediction model for second one, <b>some time after first visit</b>. \n",
    "\n",
    "Someone can see this problem in these settings. \n",
    "\n",
    "The main problem is the fact the first visits haven't happened in the same moment. They span 2016-08-01:2017-08-02 period. In our analysis will ignore it. What we are interested in is the time to the second visit given some features. \n",
    "\n",
    "We'll take the point of observation where 20% of data has uncensored data and the rest of it is censored. This might be closer to applications such as churn. "
   ]
  },
  {
   "cell_type": "code",
   "execution_count": 58,
   "metadata": {},
   "outputs": [
    {
     "data": {
      "text/html": [
       "<div>\n",
       "<style scoped>\n",
       "    .dataframe tbody tr th:only-of-type {\n",
       "        vertical-align: middle;\n",
       "    }\n",
       "\n",
       "    .dataframe tbody tr th {\n",
       "        vertical-align: top;\n",
       "    }\n",
       "\n",
       "    .dataframe thead th {\n",
       "        text-align: right;\n",
       "    }\n",
       "</style>\n",
       "<table border=\"1\" class=\"dataframe\">\n",
       "  <thead>\n",
       "    <tr style=\"text-align: right;\">\n",
       "      <th></th>\n",
       "      <th>first_visit</th>\n",
       "      <th>second_visit</th>\n",
       "      <th>duration</th>\n",
       "    </tr>\n",
       "    <tr>\n",
       "      <th>fullVisitorId</th>\n",
       "      <th></th>\n",
       "      <th></th>\n",
       "      <th></th>\n",
       "    </tr>\n",
       "  </thead>\n",
       "  <tbody>\n",
       "    <tr>\n",
       "      <th>0000040862739425590</th>\n",
       "      <td>2017-02-11 18:09:31</td>\n",
       "      <td>2017-02-11 18:47:04</td>\n",
       "      <td>2253.0</td>\n",
       "    </tr>\n",
       "  </tbody>\n",
       "</table>\n",
       "</div>"
      ],
      "text/plain": [
       "                            first_visit        second_visit  duration\n",
       "fullVisitorId                                                        \n",
       "0000040862739425590 2017-02-11 18:09:31 2017-02-11 18:47:04    2253.0"
      ]
     },
     "execution_count": 58,
     "metadata": {},
     "output_type": "execute_result"
    }
   ],
   "source": [
    "first_visits.head(1)"
   ]
  },
  {
   "cell_type": "code",
   "execution_count": 59,
   "metadata": {
    "collapsed": true
   },
   "outputs": [],
   "source": [
    "first_visits['duration_day'] = first_visits['duration'].map(lambda x: x / (24 * 3600))"
   ]
  },
  {
   "cell_type": "code",
   "execution_count": 60,
   "metadata": {},
   "outputs": [
    {
     "data": {
      "text/html": [
       "<div>\n",
       "<style scoped>\n",
       "    .dataframe tbody tr th:only-of-type {\n",
       "        vertical-align: middle;\n",
       "    }\n",
       "\n",
       "    .dataframe tbody tr th {\n",
       "        vertical-align: top;\n",
       "    }\n",
       "\n",
       "    .dataframe thead th {\n",
       "        text-align: right;\n",
       "    }\n",
       "</style>\n",
       "<table border=\"1\" class=\"dataframe\">\n",
       "  <thead>\n",
       "    <tr style=\"text-align: right;\">\n",
       "      <th></th>\n",
       "      <th>first_visit</th>\n",
       "      <th>second_visit</th>\n",
       "      <th>duration</th>\n",
       "      <th>duration_day</th>\n",
       "    </tr>\n",
       "    <tr>\n",
       "      <th>fullVisitorId</th>\n",
       "      <th></th>\n",
       "      <th></th>\n",
       "      <th></th>\n",
       "      <th></th>\n",
       "    </tr>\n",
       "  </thead>\n",
       "  <tbody>\n",
       "    <tr>\n",
       "      <th>0000040862739425590</th>\n",
       "      <td>2017-02-11 18:09:31</td>\n",
       "      <td>2017-02-11 18:47:04</td>\n",
       "      <td>2253.0</td>\n",
       "      <td>0.026076</td>\n",
       "    </tr>\n",
       "  </tbody>\n",
       "</table>\n",
       "</div>"
      ],
      "text/plain": [
       "                            first_visit        second_visit  duration  \\\n",
       "fullVisitorId                                                           \n",
       "0000040862739425590 2017-02-11 18:09:31 2017-02-11 18:47:04    2253.0   \n",
       "\n",
       "                     duration_day  \n",
       "fullVisitorId                      \n",
       "0000040862739425590      0.026076  "
      ]
     },
     "execution_count": 60,
     "metadata": {},
     "output_type": "execute_result"
    }
   ],
   "source": [
    "first_visits.head(1)"
   ]
  },
  {
   "cell_type": "code",
   "execution_count": 62,
   "metadata": {
    "collapsed": true
   },
   "outputs": [],
   "source": [
    "censored = []\n",
    "durations = []\n",
    "for _, row in first_visits.iterrows():\n",
    "    if np.random.uniform(0, 1) < 0.5:\n",
    "        censored.append(1)\n",
    "        durations.append(np.random.uniform(0.01, 0.99) * row['duration_day'])\n",
    "    else:\n",
    "        censored.append(0)\n",
    "        durations.append(row['duration_day'])"
   ]
  },
  {
   "cell_type": "code",
   "execution_count": 63,
   "metadata": {},
   "outputs": [],
   "source": [
    "first_visits['censored'] = censored\n",
    "first_visits['censored_durations'] = durations"
   ]
  },
  {
   "cell_type": "code",
   "execution_count": 64,
   "metadata": {},
   "outputs": [
    {
     "data": {
      "text/html": [
       "<div>\n",
       "<style scoped>\n",
       "    .dataframe tbody tr th:only-of-type {\n",
       "        vertical-align: middle;\n",
       "    }\n",
       "\n",
       "    .dataframe tbody tr th {\n",
       "        vertical-align: top;\n",
       "    }\n",
       "\n",
       "    .dataframe thead th {\n",
       "        text-align: right;\n",
       "    }\n",
       "</style>\n",
       "<table border=\"1\" class=\"dataframe\">\n",
       "  <thead>\n",
       "    <tr style=\"text-align: right;\">\n",
       "      <th></th>\n",
       "      <th>first_visit</th>\n",
       "      <th>second_visit</th>\n",
       "      <th>duration</th>\n",
       "      <th>duration_day</th>\n",
       "      <th>censored</th>\n",
       "      <th>censored_durations</th>\n",
       "    </tr>\n",
       "    <tr>\n",
       "      <th>fullVisitorId</th>\n",
       "      <th></th>\n",
       "      <th></th>\n",
       "      <th></th>\n",
       "      <th></th>\n",
       "      <th></th>\n",
       "      <th></th>\n",
       "    </tr>\n",
       "  </thead>\n",
       "  <tbody>\n",
       "    <tr>\n",
       "      <th>0000040862739425590</th>\n",
       "      <td>2017-02-11 18:09:31</td>\n",
       "      <td>2017-02-11 18:47:04</td>\n",
       "      <td>2253.0</td>\n",
       "      <td>0.026076</td>\n",
       "      <td>0</td>\n",
       "      <td>0.026076</td>\n",
       "    </tr>\n",
       "  </tbody>\n",
       "</table>\n",
       "</div>"
      ],
      "text/plain": [
       "                            first_visit        second_visit  duration  \\\n",
       "fullVisitorId                                                           \n",
       "0000040862739425590 2017-02-11 18:09:31 2017-02-11 18:47:04    2253.0   \n",
       "\n",
       "                     duration_day  censored  censored_durations  \n",
       "fullVisitorId                                                    \n",
       "0000040862739425590      0.026076         0            0.026076  "
      ]
     },
     "execution_count": 64,
     "metadata": {},
     "output_type": "execute_result"
    }
   ],
   "source": [
    "first_visits.head(1)"
   ]
  },
  {
   "cell_type": "code",
   "execution_count": 65,
   "metadata": {
    "collapsed": true
   },
   "outputs": [],
   "source": [
    "first_visits.reset_index().to_csv('data/censored_visitors_data.csv', index=False)"
   ]
  }
 ],
 "metadata": {
  "kernelspec": {
   "display_name": "Python 3",
   "language": "python",
   "name": "python3"
  },
  "language_info": {
   "codemirror_mode": {
    "name": "ipython",
    "version": 3
   },
   "file_extension": ".py",
   "mimetype": "text/x-python",
   "name": "python",
   "nbconvert_exporter": "python",
   "pygments_lexer": "ipython3",
   "version": "3.6.4"
  }
 },
 "nbformat": 4,
 "nbformat_minor": 2
}
