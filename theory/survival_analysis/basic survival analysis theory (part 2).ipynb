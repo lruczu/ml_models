{
 "cells": [
  {
   "cell_type": "code",
   "execution_count": 25,
   "metadata": {
    "collapsed": true
   },
   "outputs": [],
   "source": [
    "%matplotlib inline\n",
    "\n",
    "import matplotlib.pyplot as plt\n",
    "import pandas as pd\n",
    "import seaborn as sns"
   ]
  },
  {
   "cell_type": "code",
   "execution_count": 2,
   "metadata": {
    "collapsed": true
   },
   "outputs": [],
   "source": [
    "censored_df = pd.read_csv('data/censored_visitors_data.csv', dtype={'fullVisitorId': str})"
   ]
  },
  {
   "cell_type": "markdown",
   "metadata": {},
   "source": [
    "####  --- Theory ---  \n",
    "In problems like this one, we concentrate on the events and on times between them. \n",
    "Here, for each customer, we defined two moments:\n",
    " - First visit in the store (time=0)\n",
    " - Second visit in the store (the event)\n",
    "\n",
    "Let us denote by T the <b>non-negative random variable</b>, which models how long do we have to wait for the event to happen. For simplicity, let's assume that it is continous. Associated with T, there is a probability density function f and cummulative density function F. We have:\n",
    "\n",
    "- f(t) - The probability that the event occurs exactly at t. Actually, when we are talking about continuous random variables we cannot say that. That is why we use the trick f(t)dt where dt is infinitesimally small.\n",
    "- F(t) = P(T < t) - The probability that the event occured before time t\n",
    "\n",
    "In Survival analysis the crucial rule plays the survival function S(t), which in contrast to cumulative distribution function focuses on the probability that the event happens after time t.\n",
    "\n",
    "- S(t) = P(T >= t) = 1 - F(t)\n",
    "\n",
    "On a side note, the temp \"survival\" stems from the origin or domain the theory was developed. As you can in our case the event \"second visit to the store\" has nothing to do with survival."
   ]
  },
  {
   "cell_type": "code",
   "execution_count": 4,
   "metadata": {
    "collapsed": true
   },
   "outputs": [],
   "source": [
    "\"\"\"\n",
    "There exists a nice python package called lifelines (https://github.com/CamDavidsonPilon/lifelines) that turns out to \n",
    "be useful when applying basic techniques frmo the survival analysis. \n",
    "\"\"\"\n",
    "from lifelines.plotting import plot_lifetimes"
   ]
  },
  {
   "cell_type": "code",
   "execution_count": 27,
   "metadata": {},
   "outputs": [
    {
     "data": {
      "image/png": "[encoded data removed]",
      "text/plain": [
       "<matplotlib.figure.Figure at 0x7efc3855a588>"
      ]
     },
     "metadata": {},
     "output_type": "display_data"
    }
   ],
   "source": [
    "\"\"\"\n",
    "plot_lifetimes takes two arguments:\n",
    "lifetimes is the duration we observed\n",
    "event_observed whether the above duration is censored or not\n",
    "\"\"\"\n",
    "\n",
    "censored_df = censored_df.sample(frac=1)\n",
    "fig = plt.figure(figsize=(12, 8))\n",
    "plot_lifetimes(\n",
    "    lifetimes=censored_df['duration_day'].iloc[:100].values,\n",
    "    event_observed=1 - censored_df['censored'].iloc[:100].values\n",
    ");"
   ]
  },
  {
   "cell_type": "code",
   "execution_count": 13,
   "metadata": {},
   "outputs": [],
   "source": [
    "\"\"\"\n",
    "The above graph can be useful in some circumstances. But it very quickly becomes unreadable\n",
    "\"\"\";"
   ]
  },
  {
   "cell_type": "markdown",
   "metadata": {},
   "source": [
    "####  --- Theory ---  \n",
    "We introduced random variable T in the preceding \"theory cell\". It might be useful to emphasize that for the time being we can understand it as follows:\n",
    "<b>We presuppose the existence of such variable, what we have to estimate it is data. Each row is one specific realization of it. Sometimes we observe exact quantity of it, for example 1.34 days, sometimes we are given only the information such as \"at least 2.23 days\". </b>"
   ]
  },
  {
   "cell_type": "markdown",
   "metadata": {},
   "source": [
    "####  --- Theory ---  \n",
    "Very often we are interested in survival function S(t). \n",
    "\n",
    "There are some classical approaches to estimate it. One of the oldest one is Kaplan-Meier estimator. https://en.wikipedia.org/wiki/Kaplan%E2%80%93Meier_estimator\n",
    "\n",
    "The process of calculation might not be easy at first. Let's make use of something calles \"survival table\". We can get it from lifelines package. \n",
    "\n",
    "After introducing it, we'll see how the calculations work. "
   ]
  },
  {
   "cell_type": "code",
   "execution_count": 14,
   "metadata": {
    "collapsed": true
   },
   "outputs": [],
   "source": [
    "from lifelines.utils import survival_table_from_events"
   ]
  },
  {
   "cell_type": "code",
   "execution_count": 15,
   "metadata": {
    "collapsed": true
   },
   "outputs": [],
   "source": [
    "survival_table = survival_table_from_events(\n",
    "    death_times=censored_df['duration_day'],\n",
    "    event_observed=1 - censored_df['censored']\n",
    ")"
   ]
  },
  {
   "cell_type": "code",
   "execution_count": 16,
   "metadata": {},
   "outputs": [
    {
     "data": {
      "text/html": [
       "<div>\n",
       "<style scoped>\n",
       "    .dataframe tbody tr th:only-of-type {\n",
       "        vertical-align: middle;\n",
       "    }\n",
       "\n",
       "    .dataframe tbody tr th {\n",
       "        vertical-align: top;\n",
       "    }\n",
       "\n",
       "    .dataframe thead th {\n",
       "        text-align: right;\n",
       "    }\n",
       "</style>\n",
       "<table border=\"1\" class=\"dataframe\">\n",
       "  <thead>\n",
       "    <tr style=\"text-align: right;\">\n",
       "      <th></th>\n",
       "      <th>removed</th>\n",
       "      <th>observed</th>\n",
       "      <th>censored</th>\n",
       "      <th>entrance</th>\n",
       "      <th>at_risk</th>\n",
       "    </tr>\n",
       "    <tr>\n",
       "      <th>event_at</th>\n",
       "      <th></th>\n",
       "      <th></th>\n",
       "      <th></th>\n",
       "      <th></th>\n",
       "      <th></th>\n",
       "    </tr>\n",
       "  </thead>\n",
       "  <tbody>\n",
       "    <tr>\n",
       "      <th>0.000000</th>\n",
       "      <td>0</td>\n",
       "      <td>0</td>\n",
       "      <td>0</td>\n",
       "      <td>50000</td>\n",
       "      <td>50000</td>\n",
       "    </tr>\n",
       "    <tr>\n",
       "      <th>0.000012</th>\n",
       "      <td>58</td>\n",
       "      <td>24</td>\n",
       "      <td>34</td>\n",
       "      <td>0</td>\n",
       "      <td>50000</td>\n",
       "    </tr>\n",
       "    <tr>\n",
       "      <th>0.000023</th>\n",
       "      <td>47</td>\n",
       "      <td>23</td>\n",
       "      <td>24</td>\n",
       "      <td>0</td>\n",
       "      <td>49942</td>\n",
       "    </tr>\n",
       "    <tr>\n",
       "      <th>0.000035</th>\n",
       "      <td>41</td>\n",
       "      <td>21</td>\n",
       "      <td>20</td>\n",
       "      <td>0</td>\n",
       "      <td>49895</td>\n",
       "    </tr>\n",
       "    <tr>\n",
       "      <th>0.000046</th>\n",
       "      <td>40</td>\n",
       "      <td>19</td>\n",
       "      <td>21</td>\n",
       "      <td>0</td>\n",
       "      <td>49854</td>\n",
       "    </tr>\n",
       "  </tbody>\n",
       "</table>\n",
       "</div>"
      ],
      "text/plain": [
       "          removed  observed  censored  entrance  at_risk\n",
       "event_at                                                \n",
       "0.000000        0         0         0     50000    50000\n",
       "0.000012       58        24        34         0    50000\n",
       "0.000023       47        23        24         0    49942\n",
       "0.000035       41        21        20         0    49895\n",
       "0.000046       40        19        21         0    49854"
      ]
     },
     "execution_count": 16,
     "metadata": {},
     "output_type": "execute_result"
    }
   ],
   "source": [
    "survival_table.head()"
   ]
  },
  {
   "cell_type": "markdown",
   "metadata": {},
   "source": [
    "#### ---- Theory ---- \n",
    "On the wikipedia the estimator of survival function looks ugly. Let's do a couple of iterations and we'll see that \n",
    "it is quite simple.\n",
    "\n",
    "- S(0) = 1 - (number of events at 0) / (number of survivals at 0) = 1 - 0 / 50000 = 1\n",
    "- S(0.000012) = [1 - (number of events at 0) / (number of survivals at 0)] * S(0) = (1 - 24/50000) = 0.99952 \n",
    "- S(0.000023) = [1 - (number of events at 0) / (number of survivals at 0)] * S(0.000012) = (1 - 23/49942) * 0.99952 = 0.999059\n",
    "\n",
    "We won't dwell much on it. Let's use the implementation from lifelines to make our lives easier."
   ]
  },
  {
   "cell_type": "code",
   "execution_count": 20,
   "metadata": {},
   "outputs": [],
   "source": [
    "from lifelines import KaplanMeierFitter"
   ]
  },
  {
   "cell_type": "code",
   "execution_count": 21,
   "metadata": {},
   "outputs": [
    {
     "data": {
      "text/plain": [
       "<lifelines.KaplanMeierFitter: fitted with 50000 observations, 25134 censored>"
      ]
     },
     "execution_count": 21,
     "metadata": {},
     "output_type": "execute_result"
    }
   ],
   "source": [
    "kmf = KaplanMeierFitter()\n",
    "kmf.fit(\n",
    "    durations=censored_df['duration_day'],\n",
    "    event_observed=1 - censored_df['censored']\n",
    ")"
   ]
  },
  {
   "cell_type": "code",
   "execution_count": 22,
   "metadata": {},
   "outputs": [
    {
     "data": {
      "text/html": [
       "<div>\n",
       "<style scoped>\n",
       "    .dataframe tbody tr th:only-of-type {\n",
       "        vertical-align: middle;\n",
       "    }\n",
       "\n",
       "    .dataframe tbody tr th {\n",
       "        vertical-align: top;\n",
       "    }\n",
       "\n",
       "    .dataframe thead th {\n",
       "        text-align: right;\n",
       "    }\n",
       "</style>\n",
       "<table border=\"1\" class=\"dataframe\">\n",
       "  <thead>\n",
       "    <tr style=\"text-align: right;\">\n",
       "      <th></th>\n",
       "      <th>KM_estimate</th>\n",
       "    </tr>\n",
       "    <tr>\n",
       "      <th>timeline</th>\n",
       "      <th></th>\n",
       "    </tr>\n",
       "  </thead>\n",
       "  <tbody>\n",
       "    <tr>\n",
       "      <th>0.000000</th>\n",
       "      <td>1.000000</td>\n",
       "    </tr>\n",
       "    <tr>\n",
       "      <th>0.000012</th>\n",
       "      <td>0.999520</td>\n",
       "    </tr>\n",
       "    <tr>\n",
       "      <th>0.000023</th>\n",
       "      <td>0.999060</td>\n",
       "    </tr>\n",
       "    <tr>\n",
       "      <th>0.000035</th>\n",
       "      <td>0.998639</td>\n",
       "    </tr>\n",
       "    <tr>\n",
       "      <th>0.000046</th>\n",
       "      <td>0.998259</td>\n",
       "    </tr>\n",
       "  </tbody>\n",
       "</table>\n",
       "</div>"
      ],
      "text/plain": [
       "          KM_estimate\n",
       "timeline             \n",
       "0.000000     1.000000\n",
       "0.000012     0.999520\n",
       "0.000023     0.999060\n",
       "0.000035     0.998639\n",
       "0.000046     0.998259"
      ]
     },
     "execution_count": 22,
     "metadata": {},
     "output_type": "execute_result"
    }
   ],
   "source": [
    "# let's look if we have done calculations correctly\n",
    "kmf.survival_function_.head()"
   ]
  },
  {
   "cell_type": "code",
   "execution_count": 28,
   "metadata": {},
   "outputs": [
    {
     "data": {
      "text/plain": [
       "<matplotlib.axes._subplots.AxesSubplot at 0x7efc38018668>"
      ]
     },
     "execution_count": 28,
     "metadata": {},
     "output_type": "execute_result"
    },
    {
     "data": {
      "image/png": "[encoded data removed]",
      "text/plain": [
       "<matplotlib.figure.Figure at 0x7efc385f7940>"
      ]
     },
     "metadata": {},
     "output_type": "display_data"
    }
   ],
   "source": [
    "# let's plot it.\n",
    "# This is our estimatior of survival function of random variable T.\n",
    "kmf.survival_function_.plot(figsize=(10, 6))"
   ]
  },
  {
   "cell_type": "markdown",
   "metadata": {},
   "source": [
    "#### ---- Theory ---- \n",
    "We can read some information off the above plot. For example, there is a probability of 0.2 that we have to wait for the second visit to happen more than 50 days. \n",
    "\n",
    "Important note: <br>\n",
    "What we have obtained here is the result of our assumptions. One, which is for sure violated, it is the assumption the visits don't differ between each other. Each one is a realization of T (just like tossing a coin). Actually T depends on some factors we haven't taken into account. \n",
    "\n",
    "In the next cells we will differentiate visits according to some categorical value. Later, we will model it freely, as freely as regression or classification problem, i.e. T = function($X_{1}$, .., $X_{d}$)."
   ]
  },
  {
   "cell_type": "code",
   "execution_count": 31,
   "metadata": {},
   "outputs": [],
   "source": [
    "visitors_data = pd.read_csv('data/visitors_data.csv', dtype={'fullVisitorId': str})"
   ]
  },
  {
   "cell_type": "code",
   "execution_count": 33,
   "metadata": {},
   "outputs": [
    {
     "data": {
      "text/html": [
       "<div>\n",
       "<style scoped>\n",
       "    .dataframe tbody tr th:only-of-type {\n",
       "        vertical-align: middle;\n",
       "    }\n",
       "\n",
       "    .dataframe tbody tr th {\n",
       "        vertical-align: top;\n",
       "    }\n",
       "\n",
       "    .dataframe thead th {\n",
       "        text-align: right;\n",
       "    }\n",
       "</style>\n",
       "<table border=\"1\" class=\"dataframe\">\n",
       "  <thead>\n",
       "    <tr style=\"text-align: right;\">\n",
       "      <th></th>\n",
       "      <th>fullVisitorId</th>\n",
       "      <th>channelGrouping</th>\n",
       "      <th>visitStartTime</th>\n",
       "      <th>totals_bounces</th>\n",
       "      <th>totals_hits</th>\n",
       "      <th>totals_pageviews</th>\n",
       "      <th>totals_transactionRevenue</th>\n",
       "      <th>device_browser</th>\n",
       "      <th>device_is_mobile</th>\n",
       "      <th>geo_network_city</th>\n",
       "      <th>geo_network_continent</th>\n",
       "      <th>traffic_source</th>\n",
       "      <th>visit_number</th>\n",
       "    </tr>\n",
       "  </thead>\n",
       "  <tbody>\n",
       "    <tr>\n",
       "      <th>0</th>\n",
       "      <td>0000040862739425590</td>\n",
       "      <td>Paid Search</td>\n",
       "      <td>2017-02-11 18:09:31</td>\n",
       "      <td>0.0</td>\n",
       "      <td>2.0</td>\n",
       "      <td>2.0</td>\n",
       "      <td>0.0</td>\n",
       "      <td>Chrome</td>\n",
       "      <td>False</td>\n",
       "      <td>Oakland</td>\n",
       "      <td>Americas</td>\n",
       "      <td>google</td>\n",
       "      <td>1</td>\n",
       "    </tr>\n",
       "  </tbody>\n",
       "</table>\n",
       "</div>"
      ],
      "text/plain": [
       "         fullVisitorId channelGrouping       visitStartTime  totals_bounces  \\\n",
       "0  0000040862739425590     Paid Search  2017-02-11 18:09:31             0.0   \n",
       "\n",
       "   totals_hits  totals_pageviews  totals_transactionRevenue device_browser  \\\n",
       "0          2.0               2.0                        0.0         Chrome   \n",
       "\n",
       "   device_is_mobile geo_network_city geo_network_continent traffic_source  \\\n",
       "0             False          Oakland              Americas         google   \n",
       "\n",
       "   visit_number  \n",
       "0             1  "
      ]
     },
     "execution_count": 33,
     "metadata": {},
     "output_type": "execute_result"
    }
   ],
   "source": [
    "visitors_data.head(1)"
   ]
  },
  {
   "cell_type": "code",
   "execution_count": 35,
   "metadata": {},
   "outputs": [
    {
     "data": {
      "text/plain": [
       "Organic Search    62510\n",
       "Referral          33634\n",
       "Direct            29334\n",
       "Social            12743\n",
       "Paid Search        7384\n",
       "Affiliates         3122\n",
       "Display            2536\n",
       "(Other)              59\n",
       "Name: channelGrouping, dtype: int64"
      ]
     },
     "execution_count": 35,
     "metadata": {},
     "output_type": "execute_result"
    }
   ],
   "source": [
    "# we will use channelGrouping as distinctor, because this columns doesn't have so many levels\n",
    "visitors_data['channelGrouping'].value_counts()"
   ]
  },
  {
   "cell_type": "code",
   "execution_count": 36,
   "metadata": {
    "collapsed": true
   },
   "outputs": [],
   "source": [
    "censored_df = censored_df.merge(visitors_data[['fullVisitorId', 'channelGrouping']],\n",
    "                               how='inner', \n",
    "                               on='fullVisitorId')"
   ]
  },
  {
   "cell_type": "code",
   "execution_count": 39,
   "metadata": {},
   "outputs": [
    {
     "data": {
      "image/png": "[encoded data removed]",
      "text/plain": [
       "<matplotlib.figure.Figure at 0x7efc3186c898>"
      ]
     },
     "metadata": {},
     "output_type": "display_data"
    }
   ],
   "source": [
    "levels = visitors_data['channelGrouping'].unique()\n",
    "kmf = KaplanMeierFitter()\n",
    "ax = plt.subplot(111)\n",
    "for level in levels:\n",
    "    kmf.fit(\n",
    "        durations=censored_df.loc[censored_df['channelGrouping'] == level, 'duration_day'].values,\n",
    "        event_observed=1 - censored_df.loc[censored_df['channelGrouping'] == level, 'censored'].values\n",
    "    )\n",
    "    kmf.survival_function_.columns = [level]\n",
    "    kmf.survival_function_.plot(ax=ax, figsize=(12, 8))"
   ]
  },
  {
   "cell_type": "markdown",
   "metadata": {},
   "source": [
    "#### ---- Theory ---- \n",
    "Now, we can talk about more abstract things that will be useful in our adventure in survival analysis world. We mostly talked about survival function S(t). The another important concept is hazard function, denoted as $\\lambda$(t).\n",
    "\n",
    "It is defined as follows: <br><br>\n",
    "$\\lambda$(t) = $\\frac{P(t <= T < t + dt|T >= t)}{dt}$. \n",
    "\n",
    "We can imagine that it reflects probability/possibility of the event to happen in the given interval [t, t + dt]. <br><br>\n",
    "We can rewrite this expression as follows: <br> <br>\n",
    "$\\lambda$(t) = $\\frac{P(t <= T < t + dt, T >= t)}{P(T >= t)dt}$ = $\\frac{P(t <= T < t + dt)}{P(T >= t)dt}$ = $\\frac{f(t)dt}{(1 - F(t))dt}$ = $\\frac{f(t)}{S(t)}$\n",
    "\n",
    "The hazard function $\\lambda$(t) is quite important in the survival analysis. So is the cumulative hazard function, but before introducing it, let's more closely explore the relation between survival function S(t) and hazard function $\\lambda$(t). \n",
    "\n",
    "As (it is basic fact from probability theory, not part of survival analysis): <br><br>\n",
    "F(t) = $\\int_{-\\infty}^{t}f(t)dt$, and f(t) = $F^{'}(t)$, and f(t) = -$S^{'}(t)$. We can write: <br><br>\n",
    "$\\lambda$(t) = $\\frac{-S^{'}(t)}{S(t)}$, which is the same as:<br><br>\n",
    "$\\lambda$(t) = -$\\frac{d}{dt}$log(S(t)), from this we get the useful relation:\n",
    "\n",
    "log(S(t)) = -$\\int_{0}^{t}\\lambda(t)$dt, and finally:\n",
    "\n",
    "S(t) = $e^{-\\int_{0}^{t}\\lambda(t)dt}$. <br><br>\n",
    "It turns out that it is useful to define cumulative hazard function: <br>\n",
    "$\\Lambda$(t) = $\\int_{0}^{t}\\lambda(t)dt$. \n",
    "\n",
    "\n",
    "The last quantity has nice interpretation as the sum of risks (hazards) it is experienced as we move along timeline.\n",
    "This cumulative hazard function should diverge to infinity. \n",
    "<br><br>\n",
    "\n",
    "Finally, we can write:\n",
    "\n",
    "S(t) = $e^{-\\Lambda(t)}$ "
   ]
  },
  {
   "cell_type": "markdown",
   "metadata": {},
   "source": [
    "#### ---- Theory ----\n",
    "\n",
    "As there is a very direct relation between Survival function and Hazard function, we can choose one. \n",
    "It turns out that hazard function is easier to work with. \n",
    "\n",
    "Let's introduce the Cox model: <br><br>\n",
    "$\\lambda$(t|$X_{i}$) = $\\lambda_{0}$(t)$e^{\\beta_{1}X_{i1} + .. + \\beta_{p}X_{ip}}$\n",
    "\n",
    "$X_{i}$ is the vector of covariates, for example in the context of e-commerce it could be country, size or the type of the customer.\n",
    "\n",
    "\n",
    "Basically, we model hazard function as a function of covariates. $\\lambda_{0}$(t) is a baseline hazard function, it doesn't depend on covariates. It depends only on duration of observation, t.\n",
    "\n",
    "Also we can notice that the shape of hazard function is the same as baseline $\\lambda_{0}$. We can only move it up and down depending on covariates. \n",
    "\n",
    "It is the formulation. Our task is to estimate parameters of the model. As it is often the case in the classic statistics we formulate likelihood function, which then we maximize. The method is very popular and is called maximum likelihood estimation (or MLE for short). We will do so in the next notebook, where we will study modeling phase more carefully. Here, let's use implementation provived by lifelines.\n",
    "\n",
    "In the next notebook, we will split our data into train/valid sets and assess our results more quantitatively. Here, we want to familiarize ourselves, at least a bit, to the tools provided by the classical theory of survival analysis."
   ]
  },
  {
   "cell_type": "code",
   "execution_count": 40,
   "metadata": {
    "collapsed": true
   },
   "outputs": [],
   "source": [
    "from lifelines import CoxPHFitter"
   ]
  },
  {
   "cell_type": "code",
   "execution_count": 41,
   "metadata": {},
   "outputs": [
    {
     "data": {
      "text/html": [
       "<div>\n",
       "<style scoped>\n",
       "    .dataframe tbody tr th:only-of-type {\n",
       "        vertical-align: middle;\n",
       "    }\n",
       "\n",
       "    .dataframe tbody tr th {\n",
       "        vertical-align: top;\n",
       "    }\n",
       "\n",
       "    .dataframe thead th {\n",
       "        text-align: right;\n",
       "    }\n",
       "</style>\n",
       "<table border=\"1\" class=\"dataframe\">\n",
       "  <thead>\n",
       "    <tr style=\"text-align: right;\">\n",
       "      <th></th>\n",
       "      <th>fullVisitorId</th>\n",
       "      <th>first_visit</th>\n",
       "      <th>second_visit</th>\n",
       "      <th>duration</th>\n",
       "      <th>duration_day</th>\n",
       "      <th>censored</th>\n",
       "      <th>censored_durations</th>\n",
       "      <th>channelGrouping</th>\n",
       "    </tr>\n",
       "  </thead>\n",
       "  <tbody>\n",
       "    <tr>\n",
       "      <th>0</th>\n",
       "      <td>1150358308665544006</td>\n",
       "      <td>2016-12-04 10:02:54</td>\n",
       "      <td>2017-02-04 11:50:42</td>\n",
       "      <td>5363268.0</td>\n",
       "      <td>62.074861</td>\n",
       "      <td>1</td>\n",
       "      <td>23.775987</td>\n",
       "      <td>Organic Search</td>\n",
       "    </tr>\n",
       "  </tbody>\n",
       "</table>\n",
       "</div>"
      ],
      "text/plain": [
       "         fullVisitorId          first_visit         second_visit   duration  \\\n",
       "0  1150358308665544006  2016-12-04 10:02:54  2017-02-04 11:50:42  5363268.0   \n",
       "\n",
       "   duration_day  censored  censored_durations channelGrouping  \n",
       "0     62.074861         1           23.775987  Organic Search  "
      ]
     },
     "execution_count": 41,
     "metadata": {},
     "output_type": "execute_result"
    }
   ],
   "source": [
    "censored_df.head(1)"
   ]
  },
  {
   "cell_type": "code",
   "execution_count": 43,
   "metadata": {},
   "outputs": [],
   "source": [
    "# lets add additional feature \"was there some transaction\".\n",
    "censored_df = censored_df.merge(\n",
    "    visitors_data[['fullVisitorId', 'totals_transactionRevenue']], \n",
    "    how='inner', \n",
    "    on='fullVisitorId'\n",
    ")\n",
    "censored_df['totals_transactionRevenue'] = (censored_df['totals_transactionRevenue'] > 0).astype(int)"
   ]
  },
  {
   "cell_type": "code",
   "execution_count": 44,
   "metadata": {},
   "outputs": [
    {
     "data": {
      "text/html": [
       "<div>\n",
       "<style scoped>\n",
       "    .dataframe tbody tr th:only-of-type {\n",
       "        vertical-align: middle;\n",
       "    }\n",
       "\n",
       "    .dataframe tbody tr th {\n",
       "        vertical-align: top;\n",
       "    }\n",
       "\n",
       "    .dataframe thead th {\n",
       "        text-align: right;\n",
       "    }\n",
       "</style>\n",
       "<table border=\"1\" class=\"dataframe\">\n",
       "  <thead>\n",
       "    <tr style=\"text-align: right;\">\n",
       "      <th></th>\n",
       "      <th>fullVisitorId</th>\n",
       "      <th>first_visit</th>\n",
       "      <th>second_visit</th>\n",
       "      <th>duration</th>\n",
       "      <th>duration_day</th>\n",
       "      <th>censored</th>\n",
       "      <th>censored_durations</th>\n",
       "      <th>channelGrouping</th>\n",
       "      <th>totals_transactionRevenue</th>\n",
       "    </tr>\n",
       "  </thead>\n",
       "  <tbody>\n",
       "    <tr>\n",
       "      <th>0</th>\n",
       "      <td>1150358308665544006</td>\n",
       "      <td>2016-12-04 10:02:54</td>\n",
       "      <td>2017-02-04 11:50:42</td>\n",
       "      <td>5363268.0</td>\n",
       "      <td>62.074861</td>\n",
       "      <td>1</td>\n",
       "      <td>23.775987</td>\n",
       "      <td>Organic Search</td>\n",
       "      <td>0</td>\n",
       "    </tr>\n",
       "  </tbody>\n",
       "</table>\n",
       "</div>"
      ],
      "text/plain": [
       "         fullVisitorId          first_visit         second_visit   duration  \\\n",
       "0  1150358308665544006  2016-12-04 10:02:54  2017-02-04 11:50:42  5363268.0   \n",
       "\n",
       "   duration_day  censored  censored_durations channelGrouping  \\\n",
       "0     62.074861         1           23.775987  Organic Search   \n",
       "\n",
       "   totals_transactionRevenue  \n",
       "0                          0  "
      ]
     },
     "execution_count": 44,
     "metadata": {},
     "output_type": "execute_result"
    }
   ],
   "source": [
    "censored_df.head(1)"
   ]
  },
  {
   "cell_type": "code",
   "execution_count": 45,
   "metadata": {
    "collapsed": true
   },
   "outputs": [],
   "source": [
    "censored_df['observed'] = 1 - censored_df['censored']"
   ]
  },
  {
   "cell_type": "code",
   "execution_count": 46,
   "metadata": {
    "collapsed": true
   },
   "outputs": [],
   "source": [
    "levels = list(censored_df['channelGrouping'].unique())\n",
    "for level in levels:\n",
    "    censored_df[level] = (censored_df['channelGrouping'] == level).astype(int)"
   ]
  },
  {
   "cell_type": "code",
   "execution_count": 47,
   "metadata": {},
   "outputs": [
    {
     "data": {
      "text/html": [
       "<div>\n",
       "<style scoped>\n",
       "    .dataframe tbody tr th:only-of-type {\n",
       "        vertical-align: middle;\n",
       "    }\n",
       "\n",
       "    .dataframe tbody tr th {\n",
       "        vertical-align: top;\n",
       "    }\n",
       "\n",
       "    .dataframe thead th {\n",
       "        text-align: right;\n",
       "    }\n",
       "</style>\n",
       "<table border=\"1\" class=\"dataframe\">\n",
       "  <thead>\n",
       "    <tr style=\"text-align: right;\">\n",
       "      <th></th>\n",
       "      <th>fullVisitorId</th>\n",
       "      <th>first_visit</th>\n",
       "      <th>second_visit</th>\n",
       "      <th>duration</th>\n",
       "      <th>duration_day</th>\n",
       "      <th>censored</th>\n",
       "      <th>censored_durations</th>\n",
       "      <th>channelGrouping</th>\n",
       "      <th>totals_transactionRevenue</th>\n",
       "      <th>observed</th>\n",
       "      <th>Organic Search</th>\n",
       "      <th>Referral</th>\n",
       "      <th>Direct</th>\n",
       "      <th>Paid Search</th>\n",
       "      <th>Social</th>\n",
       "      <th>Display</th>\n",
       "      <th>Affiliates</th>\n",
       "      <th>(Other)</th>\n",
       "    </tr>\n",
       "  </thead>\n",
       "  <tbody>\n",
       "    <tr>\n",
       "      <th>0</th>\n",
       "      <td>1150358308665544006</td>\n",
       "      <td>2016-12-04 10:02:54</td>\n",
       "      <td>2017-02-04 11:50:42</td>\n",
       "      <td>5363268.0</td>\n",
       "      <td>62.074861</td>\n",
       "      <td>1</td>\n",
       "      <td>23.775987</td>\n",
       "      <td>Organic Search</td>\n",
       "      <td>0</td>\n",
       "      <td>0</td>\n",
       "      <td>1</td>\n",
       "      <td>0</td>\n",
       "      <td>0</td>\n",
       "      <td>0</td>\n",
       "      <td>0</td>\n",
       "      <td>0</td>\n",
       "      <td>0</td>\n",
       "      <td>0</td>\n",
       "    </tr>\n",
       "  </tbody>\n",
       "</table>\n",
       "</div>"
      ],
      "text/plain": [
       "         fullVisitorId          first_visit         second_visit   duration  \\\n",
       "0  1150358308665544006  2016-12-04 10:02:54  2017-02-04 11:50:42  5363268.0   \n",
       "\n",
       "   duration_day  censored  censored_durations channelGrouping  \\\n",
       "0     62.074861         1           23.775987  Organic Search   \n",
       "\n",
       "   totals_transactionRevenue  observed  Organic Search  Referral  Direct  \\\n",
       "0                          0         0               1         0       0   \n",
       "\n",
       "   Paid Search  Social  Display  Affiliates  (Other)  \n",
       "0            0       0        0           0        0  "
      ]
     },
     "execution_count": 47,
     "metadata": {},
     "output_type": "execute_result"
    }
   ],
   "source": [
    "censored_df.head(1)"
   ]
  },
  {
   "cell_type": "code",
   "execution_count": 48,
   "metadata": {},
   "outputs": [
    {
     "name": "stdout",
     "output_type": "stream",
     "text": [
      "Iteration 1: norm_delta = 0.36823, step_size = 0.95000, ll = -6156987.51979, seconds_since_start = 71.6\n",
      "Iteration 2: norm_delta = 1.89678, step_size = 0.95000, ll = -6137614.83473, seconds_since_start = 142.7\n",
      "Iteration 3: norm_delta = 0.94001, step_size = 0.95000, ll = -6135643.53584, seconds_since_start = 217.5\n",
      "Iteration 4: norm_delta = 0.11697, step_size = 0.93100, ll = -6135610.21895, seconds_since_start = 288.5\n",
      "Iteration 5: norm_delta = 0.37212, step_size = 0.95000, ll = -6135610.08831, seconds_since_start = 362.0\n",
      "Iteration 6: norm_delta = 0.27658, step_size = 0.93100, ll = -6135610.08767, seconds_since_start = 441.4\n",
      "Iteration 7: norm_delta = 0.21406, step_size = 0.91238, ll = -6135610.08767, seconds_since_start = 513.5\n",
      "Convergence completed after 7 iterations.\n"
     ]
    },
    {
     "data": {
      "text/plain": [
       "<lifelines.CoxPHFitter: fitted with 1067378 observations, 584874 censored>"
      ]
     },
     "execution_count": 48,
     "metadata": {},
     "output_type": "execute_result"
    }
   ],
   "source": [
    "cox_model = CoxPHFitter()\n",
    "cox_model.fit(\n",
    "    censored_df[['duration_day', 'observed', 'totals_transactionRevenue'] + levels], \n",
    "    duration_col='duration_day',\n",
    "    event_col='observed', \n",
    "    show_progress=True\n",
    ")"
   ]
  },
  {
   "cell_type": "code",
   "execution_count": 49,
   "metadata": {},
   "outputs": [
    {
     "name": "stdout",
     "output_type": "stream",
     "text": [
      "n=1067378, number of events=482504\n",
      "\n",
      "                            coef  exp(coef)  se(coef)      z      p  lower 0.95  upper 0.95     \n",
      "totals_transactionRevenue 0.0421     1.0430    0.0082 5.1433 0.0000      0.0261      0.0582  ***\n",
      "Organic Search            4.6237   101.8670       nan    nan    nan         nan         nan     \n",
      "Referral                  4.3972    81.2205       nan    nan    nan         nan         nan     \n",
      "Direct                    4.9294   138.2968       nan    nan    nan         nan         nan     \n",
      "Paid Search               5.4466   231.9782       nan    nan    nan         nan         nan     \n",
      "Social                    4.4467    85.3424       nan    nan    nan         nan         nan     \n",
      "Display                   4.4801    88.2418       nan    nan    nan         nan         nan     \n",
      "Affiliates                4.7390   114.3179       nan    nan    nan         nan         nan     \n",
      "(Other)                   4.8135   123.1620       nan    nan    nan         nan         nan     \n",
      "---\n",
      "Signif. codes:  0 '***' 0.001 '**' 0.01 '*' 0.05 '.' 0.1 ' ' 1 \n",
      "\n",
      "Concordance = 0.578\n"
     ]
    }
   ],
   "source": [
    "cox_model.print_summary()"
   ]
  },
  {
   "cell_type": "code",
   "execution_count": 50,
   "metadata": {},
   "outputs": [
    {
     "data": {
      "text/plain": [
       "0.57758186525756516"
      ]
     },
     "execution_count": 50,
     "metadata": {},
     "output_type": "execute_result"
    }
   ],
   "source": [
    "\"\"\"\n",
    "To assess goodness of fit we we use concordance-index. Its value lies between 0 and 1.\n",
    "The biggest, the better.\n",
    "The citation from https://lifelines.readthedocs.io/en/latest/Survival%20Regression.html#cox-s-proportional-hazard-model\n",
    " - 0.5 is the expected result from random predictions\n",
    " - 1.0 is perfect concordance and\n",
    " - 0.0 is perfect anti-concordance (multiply predictions with -1 to get 1.0)\n",
    " \n",
    "We can under the table 0.578 value for this metric.\n",
    "We can also get this number directly through object's field:\n",
    "\"\"\"\n",
    "cox_model.score_"
   ]
  },
  {
   "cell_type": "code",
   "execution_count": 51,
   "metadata": {},
   "outputs": [
    {
     "data": {
      "text/plain": [
       "<matplotlib.axes._subplots.AxesSubplot at 0x7efc32d53c18>"
      ]
     },
     "execution_count": 51,
     "metadata": {},
     "output_type": "execute_result"
    },
    {
     "data": {
      "image/png": "[encoded data removed]",
      "text/plain": [
       "<matplotlib.figure.Figure at 0x7efc32d53898>"
      ]
     },
     "metadata": {},
     "output_type": "display_data"
    }
   ],
   "source": [
    "# we can also plot found coefficients\n",
    "cox_model.plot()"
   ]
  },
  {
   "cell_type": "code",
   "execution_count": 53,
   "metadata": {},
   "outputs": [
    {
     "data": {
      "image/png": "[encoded data removed]",
      "text/plain": [
       "<matplotlib.figure.Figure at 0x7efc32aed898>"
      ]
     },
     "metadata": {},
     "output_type": "display_data"
    }
   ],
   "source": [
    "# we can also plot the impact of changing one variable. For more details look at the documentation of lifelines\n",
    "cox_model.plot_covariate_groups('totals_transactionRevenue', [0, 1]);"
   ]
  },
  {
   "cell_type": "code",
   "execution_count": 59,
   "metadata": {},
   "outputs": [
    {
     "data": {
      "image/png": "[encoded data removed]",
      "text/plain": [
       "<matplotlib.figure.Figure at 0x7efc32cd6eb8>"
      ]
     },
     "metadata": {},
     "output_type": "display_data"
    }
   ],
   "source": [
    "cox_model.plot_covariate_groups('Referral', [0, 1]);"
   ]
  },
  {
   "cell_type": "code",
   "execution_count": 62,
   "metadata": {},
   "outputs": [],
   "source": [
    "\"\"\"\n",
    "On the above plot we can see strange characteristics.\n",
    "Fitted survival function is almost vertical, i.e. S(t) = 0, for t > 0.\n",
    "\n",
    "Found coefficients are large, for example for \"Referral\" column 4.3972, which after expontiating is equal to 81.2205. \n",
    "If you look carefully at relation between Survival function and hazard function, you'll understand why survival function\n",
    "behaves this way.\n",
    "\n",
    "Comments:\n",
    "Fitted model might not be the best, concordance coefficients is not so high\n",
    "Cox model needs some conditions to be satisfied before applying, we neglected this stage\n",
    "\n",
    "In general this method might be useful for small datasets, where number of columns is small and well understood. \n",
    "We have to understand that one day statisticians use models to understand data better (association, causality), not to\n",
    "win machine learning competition.\n",
    "\"\"\";"
   ]
  }
 ],
 "metadata": {
  "kernelspec": {
   "display_name": "Python 3",
   "language": "python",
   "name": "python3"
  },
  "language_info": {
   "codemirror_mode": {
    "name": "ipython",
    "version": 3
   },
   "file_extension": ".py",
   "mimetype": "text/x-python",
   "name": "python",
   "nbconvert_exporter": "python",
   "pygments_lexer": "ipython3",
   "version": "3.6.4"
  }
 },
 "nbformat": 4,
 "nbformat_minor": 2
}
